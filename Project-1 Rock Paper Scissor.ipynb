{
 "cells": [
  {
   "cell_type": "markdown",
   "id": "eca87507-60a5-49d1-b61f-794680ead137",
   "metadata": {},
   "source": [
    "# Through String"
   ]
  },
  {
   "cell_type": "code",
   "execution_count": 73,
   "id": "ed04f247-061d-46e9-8d68-42941ab7a57b",
   "metadata": {},
   "outputs": [],
   "source": [
    "# 1 is for Rock\n",
    "\n",
    "# -1 is for Paper\n",
    "\n",
    "# 0 is for Scissor \n"
   ]
  },
  {
   "cell_type": "code",
   "execution_count": 74,
   "id": "395da7b5-91ed-41d8-a269-5c63a02bd85e",
   "metadata": {},
   "outputs": [],
   "source": [
    "import random"
   ]
  },
  {
   "cell_type": "code",
   "execution_count": null,
   "id": "3bbfb5d4-13e7-452c-a3e0-d115ceae0704",
   "metadata": {},
   "outputs": [],
   "source": []
  },
  {
   "cell_type": "code",
   "execution_count": 75,
   "id": "bbb6b086-d700-4e84-9226-035b97e43d7b",
   "metadata": {},
   "outputs": [
    {
     "name": "stdin",
     "output_type": "stream",
     "text": [
      "Enter your Choice b/t ['r','p','s'] s\n"
     ]
    },
    {
     "name": "stdout",
     "output_type": "stream",
     "text": [
      "You choose Scissor\n",
      "Computer choose Paper\n",
      "You Win!\n"
     ]
    }
   ],
   "source": [
    "computer = random.choice([1,0,-1])\n",
    "\n",
    "# Now it's time tom take input from the user\n",
    "\n",
    "you_str = input(\"Enter your Choice b/t ['r','p','s']\")\n",
    "you_dict = {'r':1, 'p':-1, 's':0}\n",
    "you = you_dict[you_str]\n",
    "\n",
    "reverse_dict = {1:'Rock', -1:'Paper', 0:'Scissor'}\n",
    "\n",
    "# By now we've two numbers (Variables), you and computer\n",
    "\n",
    "print(f\"You choose {reverse_dict[you]}\\nComputer choose {reverse_dict[computer]}\")\n",
    "\n",
    "# Using Nested if else statement\n",
    "\n",
    "if (computer == you):\n",
    "    print(\"It's a Draw\")\n",
    "\n",
    "else:\n",
    "    if (computer == -1 and you == 1): # computer - you = -2\n",
    "        print('You Lose!')\n",
    "        \n",
    "    elif (computer == -1 and you == 0): # computer - you = -1\n",
    "        print('You Win!')\n",
    "    \n",
    "    elif (computer == 1 and you == -1): # computer - you = 2\n",
    "        print('You Win!')\n",
    "    \n",
    "    elif (computer == 1 and you == 0): # computer - you = 1\n",
    "        print('You Lose!')\n",
    "    \n",
    "    elif (computer == 0 and you == 1): # computer - you = -1\n",
    "        print('You Win!')\n",
    "    \n",
    "    elif (computer == 0 and you == -1): # computer - you = 1\n",
    "        print('You Lose!')\n",
    "        \n",
    "    else:\n",
    "        print('Something went wrong!')"
   ]
  },
  {
   "cell_type": "markdown",
   "id": "803bfb2e-f118-4300-a29a-47a6f8f19d08",
   "metadata": {},
   "source": [
    "# Let's do Advance Analysis"
   ]
  },
  {
   "cell_type": "code",
   "execution_count": 89,
   "id": "15287085-38e8-40cb-a079-e1b081dcca1e",
   "metadata": {},
   "outputs": [
    {
     "name": "stdout",
     "output_type": "stream",
     "text": [
      "You Win\n"
     ]
    }
   ],
   "source": [
    "# Below the logic is written based on (computer -  you)\n",
    "# Here, if I apply (computer - you), and as a result, that will replace the whole Lengthy method, which we've done before \n",
    "\n",
    "if((computer - you) == -2 or (computer - you) ==  1):\n",
    "    print('You Lose!')\n",
    "else:\n",
    "    print('You Win')"
   ]
  },
  {
   "cell_type": "markdown",
   "id": "5c9f808d-377a-441b-ade8-665198e9352a",
   "metadata": {},
   "source": [
    "# Through Integers"
   ]
  },
  {
   "cell_type": "code",
   "execution_count": 88,
   "id": "dba16ff8-598f-48db-a748-091da6094412",
   "metadata": {},
   "outputs": [
    {
     "name": "stdin",
     "output_type": "stream",
     "text": [
      "Enter your number b/t [-1, 0, 1]: 1\n"
     ]
    },
    {
     "name": "stdout",
     "output_type": "stream",
     "text": [
      "Computer Choose Papper\n",
      "You Choose Rock\n",
      "You Win!\n"
     ]
    }
   ],
   "source": [
    "user = int(input(\"Enter your number b/t [-1, 0, 1]:\"))\n",
    "\n",
    "computer1 = random.choice([1, 0, -1])\n",
    "my_dict1 = {1:'Rock', -1:'Papper', 0:\"Scissor\"}\n",
    "my_rand = random.choice(list(my_dict1.keys()))\n",
    "\n",
    "comp = my_dict1[computer1]\n",
    "you1 = my_dict1[user]\n",
    "\n",
    "print(f\"Computer Choose {comp}\\nYou Choose {you1}\")\n",
    "\n",
    "if (computer1 == my_rand):\n",
    "    print(\"It's Draw\")\n",
    "else:\n",
    "    if (computer1 == 1 and my_rand == 0):\n",
    "        print('You Win!')\n",
    "    elif (computer1 == 1 and my_rand == -1):\n",
    "        print('You Lose!')\n",
    "    elif (computer1 == 0 and my_rand == 1):\n",
    "        print('You Lose!')\n",
    "    elif (computer1 == 0 and my_rand == -1):\n",
    "        print('You Win!')\n",
    "    elif (computer1 == -1 and my_rand == 0):\n",
    "        print('You Lose!')\n",
    "    elif (computer1 == -1 and my_rand == 1):\n",
    "        print('You Win!')\n",
    "    else:\n",
    "        print('Please enter from given numbers, Sorry! for Inconvenience')"
   ]
  },
  {
   "cell_type": "code",
   "execution_count": null,
   "id": "6ebb30b5-5136-4cd9-8d8c-4b75739c563e",
   "metadata": {},
   "outputs": [],
   "source": []
  }
 ],
 "metadata": {
  "kernelspec": {
   "display_name": "Python 3 (ipykernel)",
   "language": "python",
   "name": "python3"
  },
  "language_info": {
   "codemirror_mode": {
    "name": "ipython",
    "version": 3
   },
   "file_extension": ".py",
   "mimetype": "text/x-python",
   "name": "python",
   "nbconvert_exporter": "python",
   "pygments_lexer": "ipython3",
   "version": "3.13.7"
  }
 },
 "nbformat": 4,
 "nbformat_minor": 5
}
