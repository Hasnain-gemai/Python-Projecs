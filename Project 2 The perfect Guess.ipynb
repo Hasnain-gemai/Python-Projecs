{
 "cells": [
  {
   "cell_type": "code",
   "execution_count": 4,
   "id": "0114e7b5-8df7-4cea-9c9d-2a9fd8481f86",
   "metadata": {},
   "outputs": [
    {
     "name": "stdin",
     "output_type": "stream",
     "text": [
      "Guess the number:  43\n"
     ]
    },
    {
     "name": "stdout",
     "output_type": "stream",
     "text": [
      "Lower number Plz\n"
     ]
    },
    {
     "name": "stdin",
     "output_type": "stream",
     "text": [
      "Guess the number:  21\n"
     ]
    },
    {
     "name": "stdout",
     "output_type": "stream",
     "text": [
      "Higher number Plz\n"
     ]
    },
    {
     "name": "stdin",
     "output_type": "stream",
     "text": [
      "Guess the number:  30\n"
     ]
    },
    {
     "name": "stdout",
     "output_type": "stream",
     "text": [
      "Lower number Plz\n"
     ]
    },
    {
     "name": "stdin",
     "output_type": "stream",
     "text": [
      "Guess the number:  25\n"
     ]
    },
    {
     "name": "stdout",
     "output_type": "stream",
     "text": [
      "You have guessed the number '25' correctly in '4' attempts\n"
     ]
    }
   ],
   "source": [
    "import random\n",
    "n = random.randint(1,100)\n",
    "\n",
    "a = 0\n",
    "guesses = 0\n",
    "\n",
    "while(a != n):\n",
    "    guesses += 1\n",
    "    a = int(input(\"Guess the number: \"))\n",
    "\n",
    "    if (a >n):\n",
    "        print(\"Lower number Plz\")\n",
    "    elif (a == n):\n",
    "        print(f\"You have guessed the number '{n}' correctly in '{guesses}' attempts\")\n",
    "    else:\n",
    "        print(\"Higher number Plz\")\n"
   ]
  },
  {
   "cell_type": "code",
   "execution_count": null,
   "id": "ba1bbe8b-c748-4759-9168-a050bb17c95b",
   "metadata": {},
   "outputs": [],
   "source": []
  }
 ],
 "metadata": {
  "kernelspec": {
   "display_name": "Python 3 (ipykernel)",
   "language": "python",
   "name": "python3"
  },
  "language_info": {
   "codemirror_mode": {
    "name": "ipython",
    "version": 3
   },
   "file_extension": ".py",
   "mimetype": "text/x-python",
   "name": "python",
   "nbconvert_exporter": "python",
   "pygments_lexer": "ipython3",
   "version": "3.13.7"
  }
 },
 "nbformat": 4,
 "nbformat_minor": 5
}
