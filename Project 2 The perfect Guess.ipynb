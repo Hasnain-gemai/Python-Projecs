{
 "cells": [
  {
   "cell_type": "code",
   "execution_count": 7,
   "id": "0114e7b5-8df7-4cea-9c9d-2a9fd8481f86",
   "metadata": {},
   "outputs": [
    {
     "name": "stdin",
     "output_type": "stream",
     "text": [
      "Guess the number:  34\n"
     ]
    },
    {
     "name": "stdout",
     "output_type": "stream",
     "text": [
      "The number You've Guessed is 34\n",
      "Lower number Plz\n",
      "\n"
     ]
    },
    {
     "name": "stdin",
     "output_type": "stream",
     "text": [
      "Guess the number:  22\n"
     ]
    },
    {
     "name": "stdout",
     "output_type": "stream",
     "text": [
      "The number You've Guessed is 22\n",
      "Lower number Plz\n",
      "\n"
     ]
    },
    {
     "name": "stdin",
     "output_type": "stream",
     "text": [
      "Guess the number:  11\n"
     ]
    },
    {
     "name": "stdout",
     "output_type": "stream",
     "text": [
      "The number You've Guessed is 11\n",
      "Lower number Plz\n",
      "\n"
     ]
    },
    {
     "name": "stdin",
     "output_type": "stream",
     "text": [
      "Guess the number:  7\n"
     ]
    },
    {
     "name": "stdout",
     "output_type": "stream",
     "text": [
      "The number You've Guessed is 7\n",
      "Higher number Plz\n",
      "\n"
     ]
    },
    {
     "name": "stdin",
     "output_type": "stream",
     "text": [
      "Guess the number:  9\n"
     ]
    },
    {
     "name": "stdout",
     "output_type": "stream",
     "text": [
      "The number You've Guessed is 9\n",
      "Lower number Plz\n",
      "\n"
     ]
    },
    {
     "name": "stdin",
     "output_type": "stream",
     "text": [
      "Guess the number:  8\n"
     ]
    },
    {
     "name": "stdout",
     "output_type": "stream",
     "text": [
      "The number You've Guessed is 8\n",
      "You have guessed the number '8' correctly in '5' attempts\n"
     ]
    }
   ],
   "source": [
    "import random\n",
    "n = random.randint(1,100)\n",
    "\n",
    "a = 0\n",
    "guesses = 0\n",
    "\n",
    "while(a != n):\n",
    "    a = int(input(\"Guess the number: \"))\n",
    "    print(\"The number You've Guessed is\", a)\n",
    "\n",
    "    if (a >n):\n",
    "        print(\"Lower number Plz\")\n",
    "        print()\n",
    "    elif (a == n):\n",
    "        print(f\"You have guessed the number '{n}' correctly in '{guesses}' attempts\")\n",
    "    else:\n",
    "        print(\"Higher number Plz\")\n",
    "        print()\n",
    "\n",
    "    guesses += 1"
   ]
  },
  {
   "cell_type": "code",
   "execution_count": null,
   "id": "ba1bbe8b-c748-4759-9168-a050bb17c95b",
   "metadata": {},
   "outputs": [],
   "source": []
  }
 ],
 "metadata": {
  "kernelspec": {
   "display_name": "Python 3 (ipykernel)",
   "language": "python",
   "name": "python3"
  },
  "language_info": {
   "codemirror_mode": {
    "name": "ipython",
    "version": 3
   },
   "file_extension": ".py",
   "mimetype": "text/x-python",
   "name": "python",
   "nbconvert_exporter": "python",
   "pygments_lexer": "ipython3",
   "version": "3.13.7"
  }
 },
 "nbformat": 4,
 "nbformat_minor": 5
}
